{
 "cells": [
  {
   "cell_type": "code",
   "execution_count": 4,
   "metadata": {},
   "outputs": [],
   "source": [
    "import numpy as np\n",
    "import seaborn as sns\n",
    "import sklearn as sklearn\n",
    "import matplotlib.pyplot as plt"
   ]
  },
  {
   "cell_type": "code",
   "execution_count": 5,
   "metadata": {},
   "outputs": [],
   "source": [
    "import pandas as pd\n",
    "from datetime import timedelta"
   ]
  },
  {
   "cell_type": "code",
   "execution_count": 8,
   "metadata": {},
   "outputs": [],
   "source": [
    "from pyspark.sql import SparkSession"
   ]
  },
  {
   "cell_type": "code",
   "execution_count": 10,
   "metadata": {},
   "outputs": [
    {
     "name": "stdout",
     "output_type": "stream",
     "text": [
      "root\n",
      " |-- _c0: string (nullable = true)\n",
      " |-- _c1: string (nullable = true)\n",
      " |-- _c2: string (nullable = true)\n",
      " |-- _c3: string (nullable = true)\n",
      " |-- _c4: string (nullable = true)\n",
      " |-- _c5: string (nullable = true)\n",
      " |-- _c6: string (nullable = true)\n",
      " |-- _c7: string (nullable = true)\n",
      " |-- _c8: string (nullable = true)\n",
      " |-- _c9: string (nullable = true)\n",
      " |-- _c10: string (nullable = true)\n",
      " |-- _c11: string (nullable = true)\n",
      " |-- _c12: string (nullable = true)\n",
      "\n"
     ]
    }
   ],
   "source": [
    "\n",
    "spark = SparkSession.builder.getOrCreate()\n",
    "df = spark.read.csv(\"../data/DG_out.csv\")\n",
    "df.printSchema()"
   ]
  },
  {
   "cell_type": "code",
   "execution_count": 15,
   "metadata": {},
   "outputs": [
    {
     "name": "stdout",
     "output_type": "stream",
     "text": [
      "+--------------------+--------+---------+------+-------+---------+------------------+------------+------------+-------------+------------+--------------------+-------------+\n",
      "|                 _c0|     _c1|      _c2|   _c3|    _c4|      _c5|               _c6|         _c7|         _c8|          _c9|        _c10|                _c11|         _c12|\n",
      "+--------------------+--------+---------+------+-------+---------+------------------+------------+------------+-------------+------------+--------------------+-------------+\n",
      "|             tx_hash|indegree|outdegree|in_btc|out_btc|total_btc|       mean_in_btc|mean_out_btc|in_malicious|out_malicious|is_malicious|out_and_tx_malicious|all_malicious|\n",
      "|0437cd7f8525ceed2...|       0|        1|   0.0|   50.0|     50.0|               0.0|        50.0|           0|            0|           0|                   0|            0|\n",
      "|f4184fc596403b9d6...|       1|        2|  50.0|   50.0|    100.0|              50.0|        25.0|           0|            0|           0|                   0|            0|\n",
      "|ea44e972716919901...|       1|        1|  10.0|   10.0|     20.0|              10.0|        10.0|           0|            0|           0|                   0|            0|\n",
      "|a16f3ce4dd5deb92d...|       1|        1|  40.0|   30.0|     70.0|              40.0|        30.0|           0|            0|           0|                   0|            0|\n",
      "|591e91f809d716912...|       1|        2|  30.0|   30.0|     60.0|              30.0|        15.0|           0|            0|           0|                   0|            0|\n",
      "|298ca2045d174f8a1...|       1|        0|   1.0|    0.0|      1.0|               1.0|         0.0|           0|            0|           0|                   0|            0|\n",
      "|12b5633bad1f9c167...|       1|        2|  29.0|   29.0|     58.0|              29.0|        14.5|           0|            0|           0|                   0|            0|\n",
      "|4385fcf8b14497d06...|       1|        1|   1.0|    1.0|      2.0|               1.0|         1.0|           0|            0|           0|                   0|            0|\n",
      "|828ef3b079f9c2382...|       1|        1|  28.0|   10.0|     38.0|              28.0|        10.0|           0|            0|           0|                   0|            0|\n",
      "|a3b0e9e7cddbbe782...|       3|        0|  61.0|    0.0|     61.0|20.333333333333332|         0.0|           0|            0|           0|                   0|            0|\n",
      "|0cc917bf15f8807f2...|       0|        1|   0.0|   50.0|     50.0|               0.0|        50.0|           0|            0|           0|                   0|            0|\n",
      "|e8160a014fbff8386...|       2|        1| 100.0|  100.0|    200.0|              50.0|       100.0|           0|            0|           0|                   0|            0|\n",
      "|c3f0bb699bcc8a4e0...|       0|        1|   0.0|   50.0|     50.0|               0.0|        50.0|           0|            0|           0|                   0|            0|\n",
      "|4d6edbeb62735d45f...|       5|        0| 250.0|    0.0|    250.0|              50.0|         0.0|           0|            0|           0|                   0|            0|\n",
      "|00ff9e64c9a2e7793...|       0|        1|   0.0|   50.0|     50.0|               0.0|        50.0|           0|            0|           0|                   0|            0|\n",
      "|d71fd2f64c0b34465...|       1|        1|  50.0|   25.0|     75.0|              50.0|        25.0|           0|            0|           0|                   0|            0|\n",
      "|e7caf9a784751643f...|       0|        1|   0.0|   50.0|     50.0|               0.0|        50.0|           0|            0|           0|                   0|            0|\n",
      "|6bf363548b08aa876...|       1|        0|  50.0|    0.0|     50.0|              50.0|         0.0|           0|            0|           0|                   0|            0|\n",
      "|6a71cea2c4e66ea16...|       0|        1|   0.0|   50.0|     50.0|               0.0|        50.0|           0|            0|           0|                   0|            0|\n",
      "+--------------------+--------+---------+------+-------+---------+------------------+------------+------------+-------------+------------+--------------------+-------------+\n",
      "only showing top 20 rows\n",
      "\n"
     ]
    }
   ],
   "source": [
    "df.show()"
   ]
  },
  {
   "cell_type": "code",
   "execution_count": 17,
   "metadata": {},
   "outputs": [
    {
     "name": "stdout",
     "output_type": "stream",
     "text": [
      "+--------+\n",
      "|count(1)|\n",
      "+--------+\n",
      "|30248135|\n",
      "+--------+\n",
      "\n"
     ]
    }
   ],
   "source": [
    "df.createOrReplaceTempView(\"df\")"
   ]
  },
  {
   "cell_type": "code",
   "execution_count": 19,
   "metadata": {},
   "outputs": [
    {
     "name": "stdout",
     "output_type": "stream",
     "text": [
      "+------------------+\n",
      "|         mean(_c3)|\n",
      "+------------------+\n",
      "|54.841501076067104|\n",
      "+------------------+\n",
      "\n"
     ]
    }
   ],
   "source": [
    "\n",
    "spark.sql(\"SELECT mean(_c3) from df\").show()"
   ]
  },
  {
   "cell_type": "code",
   "execution_count": null,
   "metadata": {},
   "outputs": [],
   "source": []
  }
 ],
 "metadata": {
  "interpreter": {
   "hash": "916dbcbb3f70747c44a77c7bcd40155683ae19c65e1c03b4aa3499c5328201f1"
  },
  "kernelspec": {
   "display_name": "Python 3.8.10 64-bit",
   "language": "python",
   "name": "python3"
  },
  "language_info": {
   "codemirror_mode": {
    "name": "ipython",
    "version": 3
   },
   "file_extension": ".py",
   "mimetype": "text/x-python",
   "name": "python",
   "nbconvert_exporter": "python",
   "pygments_lexer": "ipython3",
   "version": "3.8.10"
  },
  "orig_nbformat": 4
 },
 "nbformat": 4,
 "nbformat_minor": 2
}
